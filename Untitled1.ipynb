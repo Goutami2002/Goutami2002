{
  "nbformat": 4,
  "nbformat_minor": 0,
  "metadata": {
    "colab": {
      "provenance": [],
      "authorship_tag": "ABX9TyM7G/EPqIX94lBtTafvwk+c",
      "include_colab_link": true
    },
    "kernelspec": {
      "name": "python3",
      "display_name": "Python 3"
    },
    "language_info": {
      "name": "python"
    }
  },
  "cells": [
    {
      "cell_type": "markdown",
      "metadata": {
        "id": "view-in-github",
        "colab_type": "text"
      },
      "source": [
        "<a href=\"https://colab.research.google.com/github/Goutami2002/Goutami2002/blob/main/Untitled1.ipynb\" target=\"_parent\"><img src=\"https://colab.research.google.com/assets/colab-badge.svg\" alt=\"Open In Colab\"/></a>"
      ]
    },
    {
      "cell_type": "code",
      "source": [
        "a=int(input (\"enter the number\"))"
      ],
      "metadata": {
        "colab": {
          "base_uri": "https://localhost:8080/"
        },
        "id": "_6vq9pKZi3Pj",
        "outputId": "2b0ef331-0c48-43f5-edd4-a38a54e67133"
      },
      "execution_count": null,
      "outputs": [
        {
          "output_type": "stream",
          "name": "stdout",
          "text": [
            "enter the 1st number5\n",
            "enter the 2nd number10\n",
            "enter the operator+,-,*,/+\n",
            "sum of 2 nums= 15\n"
          ]
        }
      ]
    },
    {
      "cell_type": "code",
      "source": [
        "a=int(input(\"enter the first number\"))\n",
        "b=int(input(\"enter the second number\"))\n",
        "o=str(input(\"enter the operator+,-,*,/\"))\n",
        "if(o==\"+\"):\n",
        " print (\"summ of 2 nums=\",a+b)\n",
        "elif(o==\"-\"):\n",
        " print (\"sub of 2 nums=\",a-b)\n",
        "elif(o==\"*\"):\n",
        " print (\"mul of 2 nums=\",a*b)\n",
        "elif(o==\"/\"):\n",
        " print (\"division of 2 nums=\",a/b)\n",
        "else:\n",
        " print (\"wrong ans\")"
      ],
      "metadata": {
        "id": "pC2lTKpGpCiY",
        "colab": {
          "base_uri": "https://localhost:8080/"
        },
        "outputId": "ec6cb0fe-4eec-471b-fddd-01812b71693f"
      },
      "execution_count": null,
      "outputs": [
        {
          "output_type": "stream",
          "name": "stdout",
          "text": [
            "enter the first number2\n",
            "enter the second number3\n",
            "enter the operator+,-,*,//\n",
            "division of 2 nums= 0.6666666666666666\n"
          ]
        }
      ]
    },
    {
      "cell_type": "code",
      "source": [
        "if(a%2==0)\n",
        " print(\"even\")\n",
        "else:\n",
        " print(\"odd\")"
      ],
      "metadata": {
        "colab": {
          "base_uri": "https://localhost:8080/",
          "height": 124
        },
        "id": "BMHSgmYMuACL",
        "outputId": "916b4eec-b21f-4bb4-8d3b-52eecf075e5a"
      },
      "execution_count": null,
      "outputs": [
        {
          "output_type": "error",
          "ename": "SyntaxError",
          "evalue": "expected ':' (<ipython-input-8-276b87dc685c>, line 1)",
          "traceback": [
            "\u001b[0;36m  File \u001b[0;32m\"<ipython-input-8-276b87dc685c>\"\u001b[0;36m, line \u001b[0;32m1\u001b[0m\n\u001b[0;31m    if(a%2==0)\u001b[0m\n\u001b[0m              ^\u001b[0m\n\u001b[0;31mSyntaxError\u001b[0m\u001b[0;31m:\u001b[0m expected ':'\n"
          ]
        }
      ]
    },
    {
      "cell_type": "code",
      "source": [
        "a=int(input(\"Enter the number\"))\n",
        "if a%2==0:\n",
        "    print(\"Even\")\n",
        "\n",
        "else:\n",
        "    print(\"odd\")"
      ],
      "metadata": {
        "id": "Loxhla5xud0N",
        "outputId": "e8265c3b-9d1d-45ad-dc72-404e21f6ef7f",
        "colab": {
          "base_uri": "https://localhost:8080/"
        }
      },
      "execution_count": null,
      "outputs": [
        {
          "output_type": "stream",
          "name": "stdout",
          "text": [
            "Enter the number2\n",
            "Even\n"
          ]
        }
      ]
    }
  ]
}